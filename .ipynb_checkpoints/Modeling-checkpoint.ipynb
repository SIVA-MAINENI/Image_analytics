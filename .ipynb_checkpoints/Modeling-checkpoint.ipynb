{
 "cells": [
  {
   "cell_type": "code",
   "execution_count": null,
   "id": "b9ec534e",
   "metadata": {},
   "outputs": [],
   "source": [
    "# Task B. Run a logistic regression with Engagement (binary) as the dependent variable, and the \n",
    "# image labels (text) as independent variables. What is the accuracy (show the confusion matrix)?"
   ]
  },
  {
   "cell_type": "code",
   "execution_count": 1,
   "id": "e7457138",
   "metadata": {},
   "outputs": [
    {
     "name": "stderr",
     "output_type": "stream",
     "text": [
      "[nltk_data] Downloading package stopwords to\n",
      "[nltk_data]     C:\\Users\\shiva\\AppData\\Roaming\\nltk_data...\n",
      "[nltk_data]   Package stopwords is already up-to-date!\n",
      "[nltk_data] Downloading package averaged_perceptron_tagger to\n",
      "[nltk_data]     C:\\Users\\shiva\\AppData\\Roaming\\nltk_data...\n",
      "[nltk_data]   Package averaged_perceptron_tagger is already up-to-\n",
      "[nltk_data]       date!\n",
      "[nltk_data] Downloading package punkt to\n",
      "[nltk_data]     C:\\Users\\shiva\\AppData\\Roaming\\nltk_data...\n",
      "[nltk_data]   Package punkt is already up-to-date!\n"
     ]
    }
   ],
   "source": [
    "import json\n",
    "import warnings\n",
    "import numpy\n",
    "import pandas as pd\n",
    "import nltk\n",
    "from nltk.stem import WordNetLemmatizer\n",
    "from nltk.corpus import wordnet\n",
    "from nltk.stem.snowball import SnowballStemmer\n",
    "from nltk.corpus import stopwords\n",
    "from nltk.tokenize import word_tokenize\n",
    "import matplotlib.pyplot as plt\n",
    "from sklearn import model_selection\n",
    "from sklearn.metrics import confusion_matrix\n",
    "from sklearn.linear_model import LogisticRegression\n",
    "from sklearn.feature_extraction.text import TfidfVectorizer\n",
    "from sklearn.model_selection import cross_val_predict, cross_val_score\n",
    "\n",
    "\n",
    "nltk.download('stopwords')\n",
    "nltk.download('averaged_perceptron_tagger')\n",
    "nltk.download('punkt')\n",
    "\n",
    "\n",
    "warnings.simplefilter(action='ignore', category=FutureWarning)"
   ]
  },
  {
   "cell_type": "markdown",
   "id": "ec82aea5",
   "metadata": {},
   "source": [
    "### Data Preperation"
   ]
  },
  {
   "cell_type": "markdown",
   "id": "3c2b8bc1",
   "metadata": {},
   "source": [
    "##### Reading the data"
   ]
  },
  {
   "cell_type": "code",
   "execution_count": 2,
   "id": "488cc5df",
   "metadata": {},
   "outputs": [
    {
     "name": "stdout",
     "output_type": "stream",
     "text": [
      "Index(['imgUrl', 'labels', 'score', 'likeCount', 'commentCount', 'caption',\n",
      "       'normalizedLikeCount', 'normalizedCommentCount', 'engagementScore',\n",
      "       'engagement'],\n",
      "      dtype='object')\n",
      "(893, 10)\n",
      "(893, 10) (893, 2)\n"
     ]
    }
   ],
   "source": [
    "df = pd.read_csv('img_lbs_scr_with_engagement.csv') \\\n",
    "       .drop(['Unnamed: 0'], axis=1)\n",
    "\n",
    "df['imgUrl'] = df['imgUrl'].apply(lambda x: x.split('media')[0])\n",
    "print(df.columns)\n",
    "print(df.shape)\n",
    "\n",
    "\n",
    "df2 = pd.DataFrame(columns=['img_url', 'description'])\n",
    "# Opening JSON file\n",
    "f = open('insta_post1.json')  \n",
    "# returns JSON object as  a dictionary\n",
    "data = json.load(f)\n",
    "# Iterating through the json list\n",
    "for descr in data:\n",
    "    df2 = df2.append({'img_url': descr['postUrl'], 'description': descr['description'] }, ignore_index=True)\n",
    "f.close()\n",
    "\n",
    "print(df.shape, df2.shape)\n",
    "\n",
    "descr_lookup = df2.set_index('img_url').to_dict()['description']\n",
    "df['description'] = df.apply(lambda row: descr_lookup[row['imgUrl']], axis=1)"
   ]
  },
  {
   "cell_type": "markdown",
   "id": "7fb86a83",
   "metadata": {},
   "source": [
    "##### Processing the data"
   ]
  },
  {
   "cell_type": "code",
   "execution_count": 3,
   "id": "764f6821",
   "metadata": {},
   "outputs": [],
   "source": [
    "stemmer = SnowballStemmer(\"english\")\n",
    "stop = stopwords.words('english')\n",
    "\n",
    "def remove_punctuation(s):\n",
    "    \"\"\"\n",
    "    function to remove punctuations in a \n",
    "    sentence\n",
    "    \"\"\"\n",
    "    string_punctuation = '''()-[]{};:'\"\\,<>./?@#$%^&*_~1234567890'''\n",
    "    no_punct = \"\"\n",
    "    for letter in s:\n",
    "        if letter not in string_punctuation:\n",
    "            no_punct += letter\n",
    "    return no_punct\n",
    "\n",
    "# Define function to lemmatize each word with its POS tag\n",
    "\n",
    "# POS_TAGGER_FUNCTION : TYPE 1\n",
    "def pos_tagger(nltk_tag):\n",
    "    if nltk_tag.startswith('J'):\n",
    "        return wordnet.ADJ\n",
    "    elif nltk_tag.startswith('V'):\n",
    "        return wordnet.VERB\n",
    "    elif nltk_tag.startswith('N'):\n",
    "        return wordnet.NOUN\n",
    "    elif nltk_tag.startswith('R'):\n",
    "        return wordnet.ADV\n",
    "    else:\n",
    "        return None\n",
    "    \n",
    "    \n",
    "def lemmetization(pos_tagged_words):\n",
    "    lemmatized_sentence = []\n",
    "    for word, tag in pos_tagged_words:\n",
    "        if tag is None:\n",
    "            # if there is no available tag, append the token as is\n",
    "            lemmatized_sentence.append(word)\n",
    "        else:\n",
    "            # else use the tag to lemmatize the token\n",
    "            lemmatized_sentence.append(lemmatizer.lemmatize(word, tag))\n",
    "    lemmatized_sentence = \" \".join(lemmatized_sentence)\n",
    "    return lemmatized_sentence\n",
    "\n",
    "    \n",
    "    \n",
    "    \n",
    "# removing unnecessary characters\n",
    "df['description'] = df['description'].apply(lambda x: x.lower().split('|')[-1] \\\n",
    "                                                       .replace('\\n', '') \\\n",
    "                                                       .replace('“', '') \\\n",
    "                                                       .replace('”', ''))\n",
    "# removing punctuations in a sentence\n",
    "i = 0\n",
    "for row in df['description']:\n",
    "    df.iloc[ i, -1] = remove_punctuation(row)\n",
    "    i=i+1\n",
    "    \n",
    "df['description'] = df['description'].apply(word_tokenize)\n",
    "df['description'] = df['description'].apply(lambda x : [w for w in x if w not in stop])\n",
    "\n",
    "# df['description'] = df['description'].apply(lambda x: [stemmer.stem(y) for y in x])\n",
    "# df['description'] = df['description'].apply(lambda x : \" \".join(x))\n",
    "\n",
    "lemmatizer = WordNetLemmatizer()\n",
    "df['description'] = df['description'].apply(lambda x: nltk.pos_tag(x))\n",
    "df['description'] = df['description'].apply(lambda words: list(map(lambda x: (x[0], pos_tagger(x[1])), words)))\n",
    "df['description'] = df['description'].apply(lambda pos_tagged_words: lemmetization(pos_tagged_words))\n",
    "\n",
    "\n",
    "Text_Column = list(df['description'].copy())\n",
    "sklearn_tfidf = TfidfVectorizer(min_df=.01, max_df =.95, stop_words=\"english\",use_idf=True, smooth_idf=False, sublinear_tf=True)\n",
    "sklearn_representation = sklearn_tfidf.fit_transform(Text_Column)\n",
    "Tfidf_Output = pd.DataFrame(sklearn_representation.toarray(), columns=sklearn_tfidf.get_feature_names())\n",
    "\n",
    "final_data = pd.concat([Tfidf_Output, df['engagement']], axis=1)"
   ]
  },
  {
   "cell_type": "markdown",
   "id": "4ffa8afc",
   "metadata": {},
   "source": [
    "#### Modeling"
   ]
  },
  {
   "cell_type": "code",
   "execution_count": 4,
   "id": "317f8bc5",
   "metadata": {},
   "outputs": [],
   "source": [
    "#Plotting Confusion Matrix\n",
    "def show_confusion_matrix(C,class_labels=['0','1']):\n",
    "\n",
    "    assert C.shape == (2,2), \"Confusion matrix should be from binary classification only.\"\n",
    "\n",
    "    # true negative, false positive, etc...\n",
    "    tn = C[0,0]; fp = C[0,1]; fn = C[1,0]; tp = C[1,1];\n",
    "\n",
    "    NP = fn+tp # Num positive examples\n",
    "    NN = tn+fp # Num negative examples\n",
    "    N  = NP+NN\n",
    "\n",
    "    fig = plt.figure(figsize=(8,8))\n",
    "    ax  = fig.add_subplot(111)\n",
    "    ax.imshow(C, interpolation='nearest', cmap=plt.cm.gray)\n",
    "\n",
    "    # Draw the grid boxes\n",
    "    ax.set_xlim(-0.5,2.5)\n",
    "    ax.set_ylim(2.5,-0.5)\n",
    "    ax.plot([-0.5,2.5],[0.5,0.5], '-k', lw=2)\n",
    "    ax.plot([-0.5,2.5],[1.5,1.5], '-k', lw=2)\n",
    "    ax.plot([0.5,0.5],[-0.5,2.5], '-k', lw=2)\n",
    "    ax.plot([1.5,1.5],[-0.5,2.5], '-k', lw=2)\n",
    "\n",
    "    # Set xlabels\n",
    "    ax.set_xlabel('Predicted Label', fontsize=16)\n",
    "    ax.set_xticks([0,1,2])\n",
    "    ax.set_xticklabels(class_labels + [''])\n",
    "    ax.xaxis.set_label_position('top')\n",
    "    ax.xaxis.tick_top()\n",
    "    # These coordinate might require some tinkering. Ditto for y, below.\n",
    "    ax.xaxis.set_label_coords(0.34,1.06)\n",
    "\n",
    "    # Set ylabels\n",
    "    ax.set_ylabel('True Label', fontsize=16, rotation=90)\n",
    "    ax.set_yticklabels(class_labels + [''],rotation=90)\n",
    "    ax.set_yticks([0,1,2])\n",
    "    ax.yaxis.set_label_coords(-0.09,0.65)\n",
    "\n",
    "\n",
    "    # Fill in initial metrics: tp, tn, etc...\n",
    "    ax.text(0,0,\n",
    "            '%d'%(tn),\n",
    "            va='center',\n",
    "            ha='center',\n",
    "            bbox=dict(fc='w',boxstyle='round,pad=1'))\n",
    "\n",
    "    ax.text(0,1,\n",
    "            '%d'%fn,\n",
    "            va='center',\n",
    "            ha='center',\n",
    "            bbox=dict(fc='w',boxstyle='round,pad=1'))\n",
    "\n",
    "    ax.text(1,0,\n",
    "            '%d'%fp,\n",
    "            va='center',\n",
    "            ha='center',\n",
    "            bbox=dict(fc='w',boxstyle='round,pad=1'))\n",
    "\n",
    "\n",
    "    ax.text(1,1,\n",
    "            '%d'%(tp),\n",
    "            va='center',\n",
    "            ha='center',\n",
    "            bbox=dict(fc='w',boxstyle='round,pad=1'))\n",
    "\n",
    "    # Fill in secondary metrics: accuracy, true pos rate, etc...\n",
    "    ax.text(2,0,\n",
    "            'Error: %.2f'%(fp / (fp+tn+0.)),\n",
    "            va='center',\n",
    "            ha='center',\n",
    "            bbox=dict(fc='w',boxstyle='round,pad=1'))\n",
    "\n",
    "    ax.text(2,1,\n",
    "            'Error: %.2f'%(fn / (tp+fn+0.)),\n",
    "            va='center',\n",
    "            ha='center',\n",
    "            bbox=dict(fc='w',boxstyle='round,pad=1'))\n",
    "\n",
    "    ax.text(2,2,\n",
    "            'Accuracy: %.2f'%((tp+tn+0.)/N),\n",
    "            va='center',\n",
    "            ha='center',\n",
    "            bbox=dict(fc='w',boxstyle='round,pad=1'))\n",
    "\n",
    "    ax.text(0,2,' ',\n",
    "            va='center',\n",
    "            ha='center',\n",
    "            bbox=dict(fc='w',boxstyle='round,pad=1'))\n",
    "\n",
    "    ax.text(1,2,\n",
    "            ' ',\n",
    "            va='center',\n",
    "            ha='center',\n",
    "            bbox=dict(fc='w',boxstyle='round,pad=1'))\n",
    "\n",
    "\n",
    "    plt.tight_layout()"
   ]
  },
  {
   "cell_type": "code",
   "execution_count": 5,
   "id": "bd0f5a2b",
   "metadata": {},
   "outputs": [
    {
     "name": "stdout",
     "output_type": "stream",
     "text": [
      "CV  accuracy 0.6483020526018455\n",
      "CV auc score 0.72425563551179\n"
     ]
    },
    {
     "name": "stderr",
     "output_type": "stream",
     "text": [
      "C:\\Users\\shiva\\AppData\\Local\\Temp\\ipykernel_6104\\4126636653.py:36: UserWarning: FixedFormatter should only be used together with FixedLocator\n",
      "  ax.set_yticklabels(class_labels + [''],rotation=90)\n"
     ]
    },
    {
     "data": {
      "image/png": "[encoded data removed]",
      "text/plain": [
       "<Figure size 800x800 with 1 Axes>"
      ]
     },
     "metadata": {},
     "output_type": "display_data"
    },
    {
     "data": {
      "text/plain": [
       "<Figure size 640x480 with 0 Axes>"
      ]
     },
     "metadata": {},
     "output_type": "display_data"
    }
   ],
   "source": [
    "selected_features = [col for col in final_data.columns if col not in ['engagement']]\n",
    "X = final_data[selected_features]\n",
    "Y = final_data['engagement']\n",
    "\n",
    "#Logit Regression\n",
    "classifier = LogisticRegression()\n",
    "Y_pred = model_selection.cross_val_predict(classifier, X, Y, cv=5)\n",
    "\n",
    "# calculating CV accuracy\n",
    "cv_scores = cross_val_score(classifier, X, Y, cv=5)\n",
    "print(\"CV  accuracy\", sum(cv_scores) / len(cv_scores))\n",
    "\n",
    "# calculating CV roc_roc\n",
    "cv_scores = cross_val_score(classifier, X, Y, cv=5, scoring='roc_auc')\n",
    "print(\"CV auc score\", sum(cv_scores) / len(cv_scores))\n",
    "\n",
    "# calculating confusion matrix\n",
    "cm = confusion_matrix(Y, Y_pred)\n",
    "show_confusion_matrix(cm, ['0', '1'])\n",
    "plt.show()\n",
    "plt.savefig('Confusion.png')"
   ]
  },
  {
   "cell_type": "code",
   "execution_count": null,
   "id": "6c5df04f",
   "metadata": {},
   "outputs": [],
   "source": []
  }
 ],
 "metadata": {
  "kernelspec": {
   "display_name": "Python 3 (ipykernel)",
   "language": "python",
   "name": "python3"
  },
  "language_info": {
   "codemirror_mode": {
    "name": "ipython",
    "version": 3
   },
   "file_extension": ".py",
   "mimetype": "text/x-python",
   "name": "python",
   "nbconvert_exporter": "python",
   "pygments_lexer": "ipython3",
   "version": "3.10.5"
  }
 },
 "nbformat": 4,
 "nbformat_minor": 5
}
