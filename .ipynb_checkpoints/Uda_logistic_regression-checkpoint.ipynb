{
 "cells": [
  {
   "cell_type": "code",
   "execution_count": 1,
   "id": "d7e2d8ac",
   "metadata": {},
   "outputs": [],
   "source": [
    "# Task B. Run a logistic regression with Engagement (binary) as the dependent variable, and the \n",
    "# image labels (text) as independent variables. What is the accuracy (show the confusion matrix)?"
   ]
  },
  {
   "cell_type": "code",
   "execution_count": 86,
   "id": "0768d815",
   "metadata": {},
   "outputs": [],
   "source": [
    "import pandas as pd\n",
    "import numpy as np\n",
    "import json\n",
    "import nltk\n",
    "from nltk.corpus import stopwords\n",
    "import warnings\n",
    "from nltk.stem import PorterStemmer\n",
    "from nltk.tokenize import word_tokenize\n",
    "from nltk.stem.snowball import SnowballStemmer\n",
    "warnings.simplefilter(action='ignore', category=FutureWarning)\n",
    "from nltk.tokenize import (TreebankWordTokenizer,\n",
    "                           word_tokenize,\n",
    "                           wordpunct_tokenize,\n",
    "                           TweetTokenizer,\n",
    "                           MWETokenizer)\n",
    "from sklearn import model_selection\n",
    "from sklearn.metrics import confusion_matrix\n",
    "from sklearn.linear_model import LogisticRegression\n",
    "from sklearn.metrics import roc_auc_score\n",
    "import matplotlib.pyplot as plt"
   ]
  },
  {
   "cell_type": "markdown",
   "id": "810e018e",
   "metadata": {},
   "source": [
    "### Data Preperation"
   ]
  },
  {
   "cell_type": "code",
   "execution_count": 3,
   "id": "39eee9e5",
   "metadata": {},
   "outputs": [
    {
     "name": "stdout",
     "output_type": "stream",
     "text": [
      "Index(['imgUrl', 'labels', 'score', 'likeCount', 'commentCount', 'caption',\n",
      "       'normalizedLikeCount', 'normalizedCommentCount', 'engagementScore',\n",
      "       'engagement'],\n",
      "      dtype='object')\n",
      "(893, 10)\n"
     ]
    }
   ],
   "source": [
    "df = pd.read_csv('img_lbs_scr_with_engagement.csv') \\\n",
    "       .drop(['Unnamed: 0'], axis=1)\n",
    "print(df.columns)\n",
    "print(df.shape)"
   ]
  },
  {
   "cell_type": "code",
   "execution_count": 4,
   "id": "6f3caf2d",
   "metadata": {},
   "outputs": [
    {
     "name": "stdout",
     "output_type": "stream",
     "text": [
      "Wall time: 3.78 s\n"
     ]
    }
   ],
   "source": [
    "%%time\n",
    "df2 = pd.DataFrame(columns=['img_url', 'description'])\n",
    "# Opening JSON file\n",
    "f = open('insta_post1.json')  \n",
    "# returns JSON object as  a dictionary\n",
    "data = json.load(f)\n",
    "# Iterating through the json list\n",
    "for descr in data:\n",
    "    df2 = df2.append({'img_url': descr['postUrl'], 'description': descr['description'] }, ignore_index=True)\n",
    "f.close()"
   ]
  },
  {
   "cell_type": "code",
   "execution_count": 5,
   "id": "87a9b390",
   "metadata": {},
   "outputs": [],
   "source": [
    "df['imgUrl'] = df['imgUrl'].apply(lambda x: x.split('media')[0])\n",
    "descr_lookup = df2.set_index('img_url').to_dict()['description']\n",
    "df['description'] = df.apply(lambda row: descr_lookup[row['imgUrl']], axis=1)"
   ]
  },
  {
   "cell_type": "code",
   "execution_count": 8,
   "id": "38db4b7a",
   "metadata": {},
   "outputs": [],
   "source": [
    "stop = stopwords.words('english')"
   ]
  },
  {
   "cell_type": "code",
   "execution_count": 10,
   "id": "d1731571",
   "metadata": {},
   "outputs": [],
   "source": [
    "df['description']=df['description'].apply(word_tokenize)\n",
    "stemmer = SnowballStemmer(\"english\")\n",
    "df['description'] = df['description'].apply(lambda x: [stemmer.stem(y) for y in x])\n",
    "df['description'] = df['description'].apply(lambda x : \" \".join(x))\n",
    "df['labels']=df['labels'].str.split(',').apply(lambda x : (\"\".join(x)).replace(\"'\",''))\n",
    "df['labels']=df['labels'].str[1:-1]"
   ]
  },
  {
   "cell_type": "code",
   "execution_count": 74,
   "id": "429b7324",
   "metadata": {},
   "outputs": [],
   "source": [
    "Text_Column=df['labels']"
   ]
  },
  {
   "cell_type": "code",
   "execution_count": 45,
   "id": "130eff6c",
   "metadata": {},
   "outputs": [],
   "source": [
    "from sklearn.feature_extraction.text import TfidfVectorizer\n",
    "sklearn_tfidf = TfidfVectorizer(min_df=.01, max_df =.95, stop_words=\"english\",use_idf=True, smooth_idf=False, sublinear_tf=True)\n",
    "sklearn_representation = sklearn_tfidf.fit_transform(Text_Column)\n",
    "Tfidf_Output = pd.DataFrame(sklearn_representation.toarray(), columns=sklearn_tfidf.get_feature_names())"
   ]
  },
  {
   "cell_type": "code",
   "execution_count": 48,
   "id": "3b1be92c",
   "metadata": {},
   "outputs": [],
   "source": [
    "Input = pd.concat([df, Tfidf_Output], axis=1)"
   ]
  },
  {
   "cell_type": "code",
   "execution_count": 50,
   "id": "504e059c",
   "metadata": {},
   "outputs": [
    {
     "data": {
      "text/plain": [
       "Index(['imgUrl', 'labels', 'score', 'likeCount', 'commentCount', 'caption',\n",
       "       'normalizedLikeCount', 'normalizedCommentCount', 'engagementScore',\n",
       "       'engagement',\n",
       "       ...\n",
       "       'wind', 'window', 'wing', 'wood', 'working', 'workwear', 'world',\n",
       "       'wrap', 'wrinkle', 'yellow'],\n",
       "      dtype='object', length=270)"
      ]
     },
     "execution_count": 50,
     "metadata": {},
     "output_type": "execute_result"
    }
   ],
   "source": [
    "Input.columns"
   ]
  },
  {
   "cell_type": "code",
   "execution_count": null,
   "id": "9af97e11",
   "metadata": {},
   "outputs": [],
   "source": [
    "Input=Input.drop(['imgUrl', 'labels', 'score', 'likeCount', 'commentCount', 'caption',\n",
    "       'normalizedLikeCount', 'normalizedCommentCount', 'engagementScore','description'], axis=1)"
   ]
  },
  {
   "cell_type": "code",
   "execution_count": 64,
   "id": "7c582e75",
   "metadata": {},
   "outputs": [],
   "source": [
    "X = Input.loc[:, Input.columns != 'engagement']\n",
    "Y = Input['engagement']"
   ]
  },
  {
   "cell_type": "code",
   "execution_count": 59,
   "id": "c999d690",
   "metadata": {},
   "outputs": [],
   "source": [
    "classifier = LogisticRegression()\n",
    "Y_pred = model_selection.cross_val_predict(classifier, X, Y, cv=5)"
   ]
  },
  {
   "cell_type": "code",
   "execution_count": 68,
   "id": "357a49be",
   "metadata": {},
   "outputs": [],
   "source": [
    "confusion_matrix = confusion_matrix((np.array(Y)), Y_pred)"
   ]
  },
  {
   "cell_type": "code",
   "execution_count": 69,
   "id": "5a85ecab",
   "metadata": {},
   "outputs": [
    {
     "data": {
      "text/plain": [
       "array([[330, 117],\n",
       "       [170, 276]], dtype=int64)"
      ]
     },
     "execution_count": 69,
     "metadata": {},
     "output_type": "execute_result"
    }
   ],
   "source": [
    "confusion_matrix"
   ]
  },
  {
   "cell_type": "code",
   "execution_count": 70,
   "id": "ead329ba",
   "metadata": {},
   "outputs": [],
   "source": [
    "def show_confusion_matrix(C,class_labels=['0','1']):\n",
    "\n",
    "    assert C.shape == (2,2), \"Confusion matrix should be from binary classification only.\"\n",
    "\n",
    "    # true negative, false positive, etc...\n",
    "    tn = C[0,0]; fp = C[0,1]; fn = C[1,0]; tp = C[1,1];\n",
    "\n",
    "    NP = fn+tp # Num positive examples\n",
    "    NN = tn+fp # Num negative examples\n",
    "    N  = NP+NN\n",
    "\n",
    "    fig = plt.figure(figsize=(8,8))\n",
    "    ax  = fig.add_subplot(111)\n",
    "    ax.imshow(C, interpolation='nearest', cmap=plt.cm.gray)\n",
    "\n",
    "    # Draw the grid boxes\n",
    "    ax.set_xlim(-0.5,2.5)\n",
    "    ax.set_ylim(2.5,-0.5)\n",
    "    ax.plot([-0.5,2.5],[0.5,0.5], '-k', lw=2)\n",
    "    ax.plot([-0.5,2.5],[1.5,1.5], '-k', lw=2)\n",
    "    ax.plot([0.5,0.5],[-0.5,2.5], '-k', lw=2)\n",
    "    ax.plot([1.5,1.5],[-0.5,2.5], '-k', lw=2)\n",
    "\n",
    "    # Set xlabels\n",
    "    ax.set_xlabel('Predicted Label', fontsize=16)\n",
    "    ax.set_xticks([0,1,2])\n",
    "    ax.set_xticklabels(class_labels + [''])\n",
    "    ax.xaxis.set_label_position('top')\n",
    "    ax.xaxis.tick_top()\n",
    "    # These coordinate might require some tinkering. Ditto for y, below.\n",
    "    ax.xaxis.set_label_coords(0.34,1.06)\n",
    "\n",
    "    # Set ylabels\n",
    "    ax.set_ylabel('True Label', fontsize=16, rotation=90)\n",
    "    ax.set_yticklabels(class_labels + [''],rotation=90)\n",
    "    ax.set_yticks([0,1,2])\n",
    "    ax.yaxis.set_label_coords(-0.09,0.65)\n",
    "\n",
    "\n",
    "    # Fill in initial metrics: tp, tn, etc...\n",
    "    ax.text(0,0,\n",
    "            '%d'%(tn),\n",
    "            va='center',\n",
    "            ha='center',\n",
    "            bbox=dict(fc='w',boxstyle='round,pad=1'))\n",
    "\n",
    "    ax.text(0,1,\n",
    "            '%d'%fn,\n",
    "            va='center',\n",
    "            ha='center',\n",
    "            bbox=dict(fc='w',boxstyle='round,pad=1'))\n",
    "\n",
    "    ax.text(1,0,\n",
    "            '%d'%fp,\n",
    "            va='center',\n",
    "            ha='center',\n",
    "            bbox=dict(fc='w',boxstyle='round,pad=1'))\n",
    "\n",
    "\n",
    "    ax.text(1,1,\n",
    "            '%d'%(tp),\n",
    "            va='center',\n",
    "            ha='center',\n",
    "            bbox=dict(fc='w',boxstyle='round,pad=1'))\n",
    "\n",
    "    # Fill in secondary metrics: accuracy, true pos rate, etc...\n",
    "    ax.text(2,0,\n",
    "            'Error: %.2f'%(fp / (fp+tn+0.)),\n",
    "            va='center',\n",
    "            ha='center',\n",
    "            bbox=dict(fc='w',boxstyle='round,pad=1'))\n",
    "\n",
    "    ax.text(2,1,\n",
    "            'Error: %.2f'%(fn / (tp+fn+0.)),\n",
    "            va='center',\n",
    "            ha='center',\n",
    "            bbox=dict(fc='w',boxstyle='round,pad=1'))\n",
    "\n",
    "    ax.text(2,2,\n",
    "            'Accuracy: %.2f'%((tp+tn+0.)/N),\n",
    "            va='center',\n",
    "            ha='center',\n",
    "            bbox=dict(fc='w',boxstyle='round,pad=1'))\n",
    "\n",
    "    ax.text(0,2,' ',\n",
    "            va='center',\n",
    "            ha='center',\n",
    "            bbox=dict(fc='w',boxstyle='round,pad=1'))\n",
    "\n",
    "    ax.text(1,2,\n",
    "            ' ',\n",
    "            va='center',\n",
    "            ha='center',\n",
    "            bbox=dict(fc='w',boxstyle='round,pad=1'))\n",
    "\n",
    "\n",
    "    plt.tight_layout()"
   ]
  },
  {
   "cell_type": "code",
   "execution_count": 72,
   "id": "56ac6ae6",
   "metadata": {},
   "outputs": [
    {
     "name": "stderr",
     "output_type": "stream",
     "text": [
      "<ipython-input-70-0343a70c4db1>:35: UserWarning: FixedFormatter should only be used together with FixedLocator\n",
      "  ax.set_yticklabels(class_labels + [''],rotation=90)\n"
     ]
    },
    {
     "data": {
      "image/png": "[encoded data removed]",
      "text/plain": [
       "<Figure size 576x576 with 1 Axes>"
      ]
     },
     "metadata": {
      "needs_background": "light"
     },
     "output_type": "display_data"
    },
    {
     "data": {
      "text/plain": [
       "<Figure size 432x288 with 0 Axes>"
      ]
     },
     "metadata": {},
     "output_type": "display_data"
    }
   ],
   "source": [
    "show_confusion_matrix(confusion_matrix, ['0', '1'])\n",
    "plt.show()\n",
    "plt.savefig('Confusion.png')"
   ]
  },
  {
   "cell_type": "code",
   "execution_count": 73,
   "id": "7599b73e",
   "metadata": {},
   "outputs": [
    {
     "data": {
      "text/plain": [
       "0.6785445571372679"
      ]
     },
     "execution_count": 73,
     "metadata": {},
     "output_type": "execute_result"
    }
   ],
   "source": [
    "roc_auc_score(Y, Y_pred)"
   ]
  },
  {
   "cell_type": "markdown",
   "id": "38a7c9f3",
   "metadata": {},
   "source": [
    "# using both labels and description"
   ]
  },
  {
   "cell_type": "code",
   "execution_count": 78,
   "id": "0a1965a0",
   "metadata": {},
   "outputs": [],
   "source": [
    "df3=pd.read_csv('data_for_caption_logit.csv')\n",
    "df3=df3.drop(['Unnamed: 0','engagement'], axis=1)"
   ]
  },
  {
   "cell_type": "code",
   "execution_count": 79,
   "id": "86ffe3ba",
   "metadata": {},
   "outputs": [
    {
     "data": {
      "text/plain": [
       "Index(['abandon', 'ability', 'able', 'access', 'accord', 'achieve', 'act',\n",
       "       'active', 'activist', 'activity',\n",
       "       ...\n",
       "       'write', 'year', 'yearold', 'yellow', 'yemen', 'york', 'young', 'youth',\n",
       "       'zahra', 'zoo'],\n",
       "      dtype='object', length=1386)"
      ]
     },
     "execution_count": 79,
     "metadata": {},
     "output_type": "execute_result"
    }
   ],
   "source": [
    "df3.columns"
   ]
  },
  {
   "cell_type": "code",
   "execution_count": 80,
   "id": "2fd03d3a",
   "metadata": {},
   "outputs": [],
   "source": [
    "Input2= pd.concat([Input, df3], axis=1)"
   ]
  },
  {
   "cell_type": "code",
   "execution_count": 81,
   "id": "2f1ff917",
   "metadata": {},
   "outputs": [
    {
     "data": {
      "text/plain": [
       "(893, 1646)"
      ]
     },
     "execution_count": 81,
     "metadata": {},
     "output_type": "execute_result"
    }
   ],
   "source": [
    "Input2.shape"
   ]
  },
  {
   "cell_type": "code",
   "execution_count": 87,
   "id": "e43e5d1e",
   "metadata": {},
   "outputs": [],
   "source": [
    "X2 = Input2.loc[:, Input2.columns != 'engagement']\n",
    "Y2 = Input2['engagement']\n",
    "classifier = LogisticRegression()\n",
    "Y_pred2 = model_selection.cross_val_predict(classifier, X2, Y2, cv=5)\n",
    "confusion_matrix = confusion_matrix((np.array(Y2)), Y_pred2)"
   ]
  },
  {
   "cell_type": "code",
   "execution_count": 88,
   "id": "44aaf006",
   "metadata": {},
   "outputs": [
    {
     "data": {
      "text/plain": [
       "array([[323, 124],\n",
       "       [166, 280]], dtype=int64)"
      ]
     },
     "execution_count": 88,
     "metadata": {},
     "output_type": "execute_result"
    }
   ],
   "source": [
    "confusion_matrix"
   ]
  },
  {
   "cell_type": "code",
   "execution_count": 89,
   "id": "a9bee584",
   "metadata": {},
   "outputs": [
    {
     "name": "stderr",
     "output_type": "stream",
     "text": [
      "<ipython-input-70-0343a70c4db1>:35: UserWarning: FixedFormatter should only be used together with FixedLocator\n",
      "  ax.set_yticklabels(class_labels + [''],rotation=90)\n"
     ]
    },
    {
     "data": {
      "image/png": "[encoded data removed]",
      "text/plain": [
       "<Figure size 576x576 with 1 Axes>"
      ]
     },
     "metadata": {
      "needs_background": "light"
     },
     "output_type": "display_data"
    },
    {
     "data": {
      "text/plain": [
       "<Figure size 432x288 with 0 Axes>"
      ]
     },
     "metadata": {},
     "output_type": "display_data"
    }
   ],
   "source": [
    "show_confusion_matrix(confusion_matrix, ['0', '1'])\n",
    "plt.show()\n",
    "plt.savefig('Confusion2.png')"
   ]
  },
  {
   "cell_type": "code",
   "execution_count": null,
   "id": "1a933a4c",
   "metadata": {},
   "outputs": [],
   "source": [
    "roc_auc_score(Y, Y_pred)"
   ]
  }
 ],
 "metadata": {
  "kernelspec": {
   "display_name": "Python 3 (ipykernel)",
   "language": "python",
   "name": "python3"
  },
  "language_info": {
   "codemirror_mode": {
    "name": "ipython",
    "version": 3
   },
   "file_extension": ".py",
   "mimetype": "text/x-python",
   "name": "python",
   "nbconvert_exporter": "python",
   "pygments_lexer": "ipython3",
   "version": "3.10.5"
  }
 },
 "nbformat": 4,
 "nbformat_minor": 5
}
