{
 "cells": [
  {
   "cell_type": "code",
   "execution_count": 1,
   "id": "cff289e5",
   "metadata": {},
   "outputs": [],
   "source": [
    "import json\n",
    "import io\n",
    "import os\n",
    "from collections import Counter\n",
    "\n",
    "# Imports the Google Cloud client library\n",
    "from google.cloud import vision"
   ]
  },
  {
   "cell_type": "code",
   "execution_count": 2,
   "id": "d7beb6be",
   "metadata": {},
   "outputs": [],
   "source": [
    "# Opening JSON file\n",
    "f = open('insta_post1.json')"
   ]
  },
  {
   "cell_type": "code",
   "execution_count": 3,
   "id": "8f3bf33e",
   "metadata": {},
   "outputs": [],
   "source": [
    "# returns JSON object as \n",
    "# a dictionary\n",
    "data = json.load(f)"
   ]
  },
  {
   "cell_type": "code",
   "execution_count": 4,
   "id": "249fd427",
   "metadata": {},
   "outputs": [],
   "source": [
    "os.environ[\"GOOGLE_APPLICATION_CREDENTIALS\"]=\"/Users/kinnarypanchal/Downloads/uda-assignment-4-96341864fcec.json\""
   ]
  },
  {
   "cell_type": "code",
   "execution_count": 5,
   "id": "db3ce336",
   "metadata": {},
   "outputs": [],
   "source": [
    "def detect_labels_uri(uri):\n",
    "    \"\"\"Detects labels in the file located in Google Cloud Storage or on the\n",
    "    Web.\"\"\"\n",
    "    from google.cloud import vision\n",
    "    client = vision.ImageAnnotatorClient()\n",
    "    image = vision.Image()\n",
    "    image.source.image_uri = uri\n",
    "\n",
    "    response = client.label_detection(image=image)\n",
    "    labels = response.label_annotations\n",
    "    \n",
    "    lbs = list()\n",
    "    scr = list()\n",
    "    \n",
    "#     return labels\n",
    "    \n",
    "#     print('Labels:')\n",
    "\n",
    "\n",
    "    for label in labels:\n",
    "        lbs.append(label.description)\n",
    "        scr.append(label.score)\n",
    "        \n",
    "        \n",
    "    return (lbs, scr)\n",
    "\n",
    "    if response.error.message:\n",
    "        raise Exception(\n",
    "            '{}\\nFor more info on error messages, check: '\n",
    "            'https://cloud.google.com/apis/design/errors'.format(\n",
    "                response.error.message))"
   ]
  },
  {
   "cell_type": "code",
   "execution_count": 6,
   "id": "3b0af723",
   "metadata": {},
   "outputs": [
    {
     "data": {
      "text/plain": [
       "893"
      ]
     },
     "execution_count": 6,
     "metadata": {},
     "output_type": "execute_result"
    }
   ],
   "source": [
    "len(data)"
   ]
  },
  {
   "cell_type": "code",
   "execution_count": 7,
   "id": "24ddef7a",
   "metadata": {},
   "outputs": [],
   "source": [
    "pid = list()\n",
    "for i in range(0,len(data)):\n",
    "    pid.append(data[i]['postId'])"
   ]
  },
  {
   "cell_type": "code",
   "execution_count": 8,
   "id": "a3390eae",
   "metadata": {},
   "outputs": [
    {
     "name": "stdout",
     "output_type": "stream",
     "text": [
      "No of unique items in the list are: 675\n"
     ]
    }
   ],
   "source": [
    "items = Counter(pid).keys()\n",
    "print(\"No of unique items in the list are:\", len(items))"
   ]
  },
  {
   "cell_type": "code",
   "execution_count": 9,
   "id": "8ba3b195",
   "metadata": {},
   "outputs": [],
   "source": [
    "url = list()\n",
    "for i in range(0, len(data)):\n",
    "    url.append(data[i]['imgUrl'])"
   ]
  },
  {
   "cell_type": "code",
   "execution_count": 10,
   "id": "719faea0",
   "metadata": {},
   "outputs": [
    {
     "name": "stdout",
     "output_type": "stream",
     "text": [
      "No of unique items in the list are: 485\n"
     ]
    }
   ],
   "source": [
    "items = Counter(url).keys()\n",
    "print(\"No of unique items in the list are:\", len(items))"
   ]
  },
  {
   "cell_type": "markdown",
   "id": "fccaa50a",
   "metadata": {},
   "source": [
    "### Means there are 675 different posts with 893 images in total. \n",
    "### However there are only 485 unique images used throughout all the 675 posts\n",
    "### This implies multiple posts have same images"
   ]
  },
  {
   "cell_type": "code",
   "execution_count": 12,
   "id": "ac41758a",
   "metadata": {
    "scrolled": false
   },
   "outputs": [
    {
     "name": "stdout",
     "output_type": "stream",
     "text": [
      "0\n",
      "20\n",
      "40\n",
      "60\n",
      "80\n",
      "100\n",
      "120\n",
      "140\n",
      "160\n",
      "180\n",
      "200\n",
      "220\n",
      "240\n",
      "260\n",
      "280\n",
      "300\n",
      "320\n",
      "340\n",
      "360\n",
      "380\n",
      "400\n",
      "420\n",
      "440\n",
      "460\n",
      "480\n",
      "500\n",
      "520\n",
      "540\n",
      "560\n",
      "580\n",
      "600\n",
      "620\n",
      "640\n",
      "660\n",
      "680\n",
      "700\n",
      "720\n",
      "740\n",
      "760\n",
      "780\n",
      "800\n",
      "820\n",
      "840\n",
      "860\n",
      "880\n"
     ]
    }
   ],
   "source": [
    "for i in range(0, len(data)):\n",
    "    lbs, scr = detect_labels_uri(url[i])\n",
    "    data[i]['labels'] = lbs \n",
    "    data[i]['score'] = scr\n",
    "    if i%20 == 0:\n",
    "        print(i)"
   ]
  },
  {
   "cell_type": "code",
   "execution_count": 13,
   "id": "ef9cc8c2",
   "metadata": {},
   "outputs": [],
   "source": [
    "with open('insta_label_score.json', 'w') as json_file:\n",
    "    json.dump(data, json_file)"
   ]
  },
  {
   "cell_type": "code",
   "execution_count": 14,
   "id": "3ae8d4c2",
   "metadata": {},
   "outputs": [],
   "source": [
    "# Closing file\n",
    "f.close()"
   ]
  },
  {
   "cell_type": "code",
   "execution_count": 15,
   "id": "4d2ddc12",
   "metadata": {},
   "outputs": [],
   "source": [
    "f1 = open('insta_label_score.json')"
   ]
  },
  {
   "cell_type": "code",
   "execution_count": 16,
   "id": "305719e9",
   "metadata": {},
   "outputs": [],
   "source": [
    "dt = json.load(f1)"
   ]
  },
  {
   "cell_type": "code",
   "execution_count": 18,
   "id": "c06ec48b",
   "metadata": {},
   "outputs": [
    {
     "data": {
      "text/plain": [
       "[{'postUrl': 'https://www.instagram.com/p/Ckvlx4fA7ch/',\n",
       "  'description': 'Photo by @paoloverzone | Still wrapped like mummies after their move to the new Grand Egyptian Museum in Giza from sites across Egypt, statues of pharaohs and gods surround its director, Maj. Gen. Atef Moftah. An engineer by training, Moftah was appointed in 2016 by Egypt’s president, Abdel Fattah el Sisi, to oversee the monumental work of the new museum. \\nRead the full story at the link in bio and follow @paoloverzone for more images and stories.',\n",
       "  'commentCount': 217,\n",
       "  'likeCount': 22920,\n",
       "  'pubDate': '2022-11-09T14:30:11.000Z',\n",
       "  'likedByViewer': 'False',\n",
       "  'isSidecar': 'False',\n",
       "  'type': 'Photo',\n",
       "  'caption': 'Photo by National Geographic on November 09, 2022. May be an image of sculpture.',\n",
       "  'profileUrl': 'https://www.instagram.com/natgeo',\n",
       "  'username': 'natgeo',\n",
       "  'imgUrl': 'https://www.instagram.com/p/Ckvlx4fA7ch/media/?size=l',\n",
       "  'postId': 2.967756835e+18,\n",
       "  'timestamp': 1668011837270,\n",
       "  'query': 'https://www.instagram.com/natgeo/',\n",
       "  'videoUrl': '',\n",
       "  'viewCount': '',\n",
       "  'fullName': '',\n",
       "  'playCount': '',\n",
       "  'videoDuration': '',\n",
       "  'taggedFullName1': '',\n",
       "  'taggedUsername1': '',\n",
       "  'taggedFullName2': '',\n",
       "  'taggedUsername2': '',\n",
       "  'taggedFullName3': '',\n",
       "  'taggedUsername3': '',\n",
       "  'taggedFullName4': '',\n",
       "  'taggedUsername4': '',\n",
       "  'labels': ['Temple',\n",
       "   'Sculpture',\n",
       "   'Statue',\n",
       "   'World',\n",
       "   'Art',\n",
       "   'Landmark',\n",
       "   'Monument',\n",
       "   'Classical sculpture',\n",
       "   'Wood',\n",
       "   'Artifact'],\n",
       "  'score': [0.8743597865104675,\n",
       "   0.8710590600967407,\n",
       "   0.8659065365791321,\n",
       "   0.8560667634010315,\n",
       "   0.7694063186645508,\n",
       "   0.7690609693527222,\n",
       "   0.7666013240814209,\n",
       "   0.7574926614761353,\n",
       "   0.7487391829490662,\n",
       "   0.7331680655479431]},\n",
       " {'postUrl': 'https://www.instagram.com/p/Ckt9EF4AgD5/',\n",
       "  'description': 'Read the full story at the link in bio.\\n\\nDeep within the lush central highlands of Puerto Rico lies a hidden history that goes far beyond the legend of the chupacabra. From centuries-old petroglyphs to sacred ceremonial centers, the Taína Route holds the very real history of an Indigenous culture that was nearly wiped out.\\n\\nPhotograph by Brian Overcast, Alamy Stock Photo',\n",
       "  'commentCount': 801,\n",
       "  'likeCount': 156864,\n",
       "  'pubDate': '2022-11-08T23:15:10.000Z',\n",
       "  'likedByViewer': 'False',\n",
       "  'isSidecar': 'False',\n",
       "  'type': 'Photo',\n",
       "  'caption': \"Photo by National Geographic on November 08, 2022. May be an image of text that says 'The legend of the chupacabra was born here- but a more fascinating story is carved into the walls'.\",\n",
       "  'profileUrl': 'https://www.instagram.com/natgeo',\n",
       "  'username': 'natgeo',\n",
       "  'imgUrl': 'https://www.instagram.com/p/Ckt9EF4AgD5/media/?size=l',\n",
       "  'postId': 2.967296292e+18,\n",
       "  'timestamp': 1668011837270,\n",
       "  'query': 'https://www.instagram.com/natgeo/',\n",
       "  'videoUrl': '',\n",
       "  'viewCount': '',\n",
       "  'fullName': '',\n",
       "  'playCount': '',\n",
       "  'videoDuration': '',\n",
       "  'taggedFullName1': '',\n",
       "  'taggedUsername1': '',\n",
       "  'taggedFullName2': '',\n",
       "  'taggedUsername2': '',\n",
       "  'taggedFullName3': '',\n",
       "  'taggedUsername3': '',\n",
       "  'taggedFullName4': '',\n",
       "  'taggedUsername4': '',\n",
       "  'labels': ['World',\n",
       "   'Font',\n",
       "   'Bedrock',\n",
       "   'Landscape',\n",
       "   'Natural landscape',\n",
       "   'History',\n",
       "   'Soil',\n",
       "   'Cave',\n",
       "   'Arch',\n",
       "   'Rock'],\n",
       "  'score': [0.898686408996582,\n",
       "   0.8260526657104492,\n",
       "   0.7738277316093445,\n",
       "   0.7643269300460815,\n",
       "   0.6981337666511536,\n",
       "   0.6690203547477722,\n",
       "   0.6495804190635681,\n",
       "   0.6358860731124878,\n",
       "   0.6288647651672363,\n",
       "   0.6000621914863586]},\n",
       " {'postUrl': 'https://www.instagram.com/p/CktA-_-Ae-l/',\n",
       "  'description': 'Photo by Corey Arnold @arni_coraldo | San Francisco was the focus of the raccoon portion of my article on urban wildlife, but on most nights during my quest, a coyote seemed to show up and steal the show. This coyote is letting out a defensive warning—a howl toward the presence of a pre-dawn dog walker nearby. Coyotes often feast on rodents and other natural foods found in parks, empty lots, and overgrown green spaces. But there are conflicting opinions about whether coyotes should be allowed to populate dense urban spaces. Pets such as cats and small dogs have increasingly been targeted as the coyotes expand across the San Francisco Bay Area. Check out the story by writer @christinedellamore and me in the July issue or in the link in bio. #urbanwildlife #coyote #howl #carnivore',\n",
       "  'commentCount': 673,\n",
       "  'likeCount': 135166,\n",
       "  'pubDate': '2022-11-08T14:30:10.000Z',\n",
       "  'likedByViewer': 'False',\n",
       "  'isSidecar': 'False',\n",
       "  'type': 'Photo',\n",
       "  'caption': 'Photo by National Geographic on November 08, 2022. May be an image of animal and nature.',\n",
       "  'profileUrl': 'https://www.instagram.com/natgeo',\n",
       "  'username': 'natgeo',\n",
       "  'imgUrl': 'https://www.instagram.com/p/CktA-_-Ae-l/media/?size=l',\n",
       "  'postId': 2.967032059e+18,\n",
       "  'timestamp': 1668011837270,\n",
       "  'query': 'https://www.instagram.com/natgeo/',\n",
       "  'videoUrl': '',\n",
       "  'viewCount': '',\n",
       "  'fullName': '',\n",
       "  'playCount': '',\n",
       "  'videoDuration': '',\n",
       "  'taggedFullName1': '',\n",
       "  'taggedUsername1': '',\n",
       "  'taggedFullName2': '',\n",
       "  'taggedUsername2': '',\n",
       "  'taggedFullName3': '',\n",
       "  'taggedUsername3': '',\n",
       "  'taggedFullName4': '',\n",
       "  'taggedUsername4': '',\n",
       "  'labels': ['Sky',\n",
       "   'Atmosphere',\n",
       "   'Building',\n",
       "   'Cloud',\n",
       "   'Skyscraper',\n",
       "   'Tower block',\n",
       "   'Carnivore',\n",
       "   'Wood',\n",
       "   'Horizon',\n",
       "   'City'],\n",
       "  'score': [0.9685000777244568,\n",
       "   0.9481807947158813,\n",
       "   0.9270790219306946,\n",
       "   0.9154880046844482,\n",
       "   0.8911654949188232,\n",
       "   0.8213402032852173,\n",
       "   0.8092833161354065,\n",
       "   0.7655067443847656,\n",
       "   0.7491734623908997,\n",
       "   0.748874843120575]},\n",
       " {'postUrl': 'https://www.instagram.com/p/CkqtXRvApPf/',\n",
       "  'description': 'Photos by @lynseyaddario | Drought, conflict, instability, and rising prices are creating unprecedented levels of food insecurity and looming famine across various countries in the Horn of Africa.\\n\\n(1) In Baidoa, Somalia, Khadijo Ibrahim Abikar, 50, holds her severely malnourished two-year-old granddaughter, Naima Adan Ali, in a medical center supported by the humanitarian aid organization Save the Children. The photograph was taken on the 10th day Naima received treatment, and her health had been improving. “We came due to drought,” says Abikar. “We lost all our livestock, and the farm was affected by locusts. Before, we had more than 55 goats and cattle were 45. Now we have only three camels, and they don’t give milk because they are malnourished.”\\n\\n(2) The carcasses of animals that died from malnutrition and lack of water from the ongoing drought lay discarded outside Usgure village in northeastern Somalia. The animals belonged to a pastoralist family that owned 200 goats and sheep before the rains ceased. “At the start of drought, we lost two, three goats per day,” says Iqro Jama, 20. \"Then we moved here with about 20 and lost the last one a few days ago.”\\n\\n(3) A health worker measures the arm of Mohamed Ali Ibrahim, a severely malnourished two-year-old, at a mobile health unit in Baidoa.\\n\\nRead the full story at the link in bio.',\n",
       "  'commentCount': 1239,\n",
       "  'likeCount': 96861,\n",
       "  'pubDate': '2022-11-07T17:00:12.000Z',\n",
       "  'likedByViewer': 'False',\n",
       "  'isSidecar': 'True',\n",
       "  'type': 'Photo',\n",
       "  'caption': 'Photo by National Geographic on November 07, 2022. May be an image of 1 person and child.',\n",
       "  'profileUrl': 'https://www.instagram.com/natgeo',\n",
       "  'username': 'natgeo',\n",
       "  'imgUrl': 'https://www.instagram.com/p/CkqtXRvApPf/media/?size=l',\n",
       "  'postId': 2.966382781e+18,\n",
       "  'timestamp': 1668011837270,\n",
       "  'query': 'https://www.instagram.com/natgeo/',\n",
       "  'videoUrl': '',\n",
       "  'viewCount': '',\n",
       "  'fullName': '',\n",
       "  'playCount': '',\n",
       "  'videoDuration': '',\n",
       "  'taggedFullName1': '',\n",
       "  'taggedUsername1': '',\n",
       "  'taggedFullName2': '',\n",
       "  'taggedUsername2': '',\n",
       "  'taggedFullName3': '',\n",
       "  'taggedUsername3': '',\n",
       "  'taggedFullName4': '',\n",
       "  'taggedUsername4': '',\n",
       "  'labels': ['Event',\n",
       "   'Flash photography',\n",
       "   'Darkness',\n",
       "   'Working animal',\n",
       "   'Visual arts',\n",
       "   'Wrinkle',\n",
       "   'Fictional character',\n",
       "   'Magenta',\n",
       "   'Tradition',\n",
       "   'Flesh'],\n",
       "  'score': [0.7158313989639282,\n",
       "   0.693068265914917,\n",
       "   0.6923282146453857,\n",
       "   0.6889015436172485,\n",
       "   0.663655698299408,\n",
       "   0.6595450639724731,\n",
       "   0.6589662432670593,\n",
       "   0.6241316795349121,\n",
       "   0.6169265508651733,\n",
       "   0.6102234721183777]}]"
      ]
     },
     "execution_count": 18,
     "metadata": {},
     "output_type": "execute_result"
    }
   ],
   "source": [
    "dt[0:4]"
   ]
  },
  {
   "cell_type": "code",
   "execution_count": 26,
   "id": "8aa16b56",
   "metadata": {},
   "outputs": [],
   "source": [
    "lbs = list()\n",
    "scr = list()\n",
    "likeCount = list()\n",
    "commentCount = list()\n",
    "caption = list()\n",
    "for i in range(0, len(data)):\n",
    "    lbs.append(dt[i]['labels'])\n",
    "    scr.append(dt[i]['score'])\n",
    "    likeCount.append(dt[i]['likeCount'])\n",
    "    commentCount.append(dt[i]['commentCount'])\n",
    "    caption.append(dt[i]['caption'])"
   ]
  },
  {
   "cell_type": "code",
   "execution_count": 27,
   "id": "613976b3",
   "metadata": {},
   "outputs": [],
   "source": [
    "import pandas as pd"
   ]
  },
  {
   "cell_type": "code",
   "execution_count": 29,
   "id": "db8745ec",
   "metadata": {},
   "outputs": [
    {
     "data": {
      "text/plain": [
       "893"
      ]
     },
     "execution_count": 29,
     "metadata": {},
     "output_type": "execute_result"
    }
   ],
   "source": [
    "len(lbs)"
   ]
  },
  {
   "cell_type": "code",
   "execution_count": 30,
   "id": "7e05e3a1",
   "metadata": {},
   "outputs": [
    {
     "data": {
      "text/plain": [
       "893"
      ]
     },
     "execution_count": 30,
     "metadata": {},
     "output_type": "execute_result"
    }
   ],
   "source": [
    "len(scr)"
   ]
  },
  {
   "cell_type": "code",
   "execution_count": 127,
   "id": "19a81898",
   "metadata": {},
   "outputs": [
    {
     "data": {
      "text/html": [
       "<div>\n",
       "<style scoped>\n",
       "    .dataframe tbody tr th:only-of-type {\n",
       "        vertical-align: middle;\n",
       "    }\n",
       "\n",
       "    .dataframe tbody tr th {\n",
       "        vertical-align: top;\n",
       "    }\n",
       "\n",
       "    .dataframe thead th {\n",
       "        text-align: right;\n",
       "    }\n",
       "</style>\n",
       "<table border=\"1\" class=\"dataframe\">\n",
       "  <thead>\n",
       "    <tr style=\"text-align: right;\">\n",
       "      <th></th>\n",
       "      <th>imgUrl</th>\n",
       "      <th>labels</th>\n",
       "      <th>score</th>\n",
       "      <th>likeCount</th>\n",
       "      <th>commentCount</th>\n",
       "      <th>caption</th>\n",
       "    </tr>\n",
       "  </thead>\n",
       "  <tbody>\n",
       "    <tr>\n",
       "      <th>0</th>\n",
       "      <td>https://www.instagram.com/p/Ckvlx4fA7ch/media/...</td>\n",
       "      <td>[Temple, Sculpture, Statue, World, Art, Landma...</td>\n",
       "      <td>[0.8743597865104675, 0.8710590600967407, 0.865...</td>\n",
       "      <td>22920</td>\n",
       "      <td>217</td>\n",
       "      <td>Photo by National Geographic on November 09, 2...</td>\n",
       "    </tr>\n",
       "    <tr>\n",
       "      <th>1</th>\n",
       "      <td>https://www.instagram.com/p/Ckt9EF4AgD5/media/...</td>\n",
       "      <td>[World, Font, Bedrock, Landscape, Natural land...</td>\n",
       "      <td>[0.898686408996582, 0.8260526657104492, 0.7738...</td>\n",
       "      <td>156864</td>\n",
       "      <td>801</td>\n",
       "      <td>Photo by National Geographic on November 08, 2...</td>\n",
       "    </tr>\n",
       "    <tr>\n",
       "      <th>2</th>\n",
       "      <td>https://www.instagram.com/p/CktA-_-Ae-l/media/...</td>\n",
       "      <td>[Sky, Atmosphere, Building, Cloud, Skyscraper,...</td>\n",
       "      <td>[0.9685000777244568, 0.9481807947158813, 0.927...</td>\n",
       "      <td>135166</td>\n",
       "      <td>673</td>\n",
       "      <td>Photo by National Geographic on November 08, 2...</td>\n",
       "    </tr>\n",
       "    <tr>\n",
       "      <th>3</th>\n",
       "      <td>https://www.instagram.com/p/CkqtXRvApPf/media/...</td>\n",
       "      <td>[Event, Flash photography, Darkness, Working a...</td>\n",
       "      <td>[0.7158313989639282, 0.693068265914917, 0.6923...</td>\n",
       "      <td>96861</td>\n",
       "      <td>1239</td>\n",
       "      <td>Photo by National Geographic on November 07, 2...</td>\n",
       "    </tr>\n",
       "    <tr>\n",
       "      <th>4</th>\n",
       "      <td>https://www.instagram.com/p/CkqtXRvApPf/media/...</td>\n",
       "      <td>[Event, Flash photography, Darkness, Working a...</td>\n",
       "      <td>[0.7158313989639282, 0.693068265914917, 0.6923...</td>\n",
       "      <td>96861</td>\n",
       "      <td>1239</td>\n",
       "      <td>Photo by National Geographic on November 07, 2...</td>\n",
       "    </tr>\n",
       "  </tbody>\n",
       "</table>\n",
       "</div>"
      ],
      "text/plain": [
       "                                              imgUrl  \\\n",
       "0  https://www.instagram.com/p/Ckvlx4fA7ch/media/...   \n",
       "1  https://www.instagram.com/p/Ckt9EF4AgD5/media/...   \n",
       "2  https://www.instagram.com/p/CktA-_-Ae-l/media/...   \n",
       "3  https://www.instagram.com/p/CkqtXRvApPf/media/...   \n",
       "4  https://www.instagram.com/p/CkqtXRvApPf/media/...   \n",
       "\n",
       "                                              labels  \\\n",
       "0  [Temple, Sculpture, Statue, World, Art, Landma...   \n",
       "1  [World, Font, Bedrock, Landscape, Natural land...   \n",
       "2  [Sky, Atmosphere, Building, Cloud, Skyscraper,...   \n",
       "3  [Event, Flash photography, Darkness, Working a...   \n",
       "4  [Event, Flash photography, Darkness, Working a...   \n",
       "\n",
       "                                               score  likeCount  commentCount  \\\n",
       "0  [0.8743597865104675, 0.8710590600967407, 0.865...      22920           217   \n",
       "1  [0.898686408996582, 0.8260526657104492, 0.7738...     156864           801   \n",
       "2  [0.9685000777244568, 0.9481807947158813, 0.927...     135166           673   \n",
       "3  [0.7158313989639282, 0.693068265914917, 0.6923...      96861          1239   \n",
       "4  [0.7158313989639282, 0.693068265914917, 0.6923...      96861          1239   \n",
       "\n",
       "                                             caption  \n",
       "0  Photo by National Geographic on November 09, 2...  \n",
       "1  Photo by National Geographic on November 08, 2...  \n",
       "2  Photo by National Geographic on November 08, 2...  \n",
       "3  Photo by National Geographic on November 07, 2...  \n",
       "4  Photo by National Geographic on November 07, 2...  "
      ]
     },
     "execution_count": 127,
     "metadata": {},
     "output_type": "execute_result"
    }
   ],
   "source": [
    "df = pd.DataFrame(list(zip(url, lbs, scr, likeCount, commentCount, caption)), columns =['imgUrl','labels', 'score', 'likeCount', 'commentCount', 'caption']) \n",
    "df.head()"
   ]
  },
  {
   "cell_type": "code",
   "execution_count": 33,
   "id": "8ff213c9",
   "metadata": {},
   "outputs": [],
   "source": [
    "df.to_csv('img_lbs_scr.csv')"
   ]
  },
  {
   "cell_type": "code",
   "execution_count": 128,
   "id": "9c83e674",
   "metadata": {},
   "outputs": [
    {
     "data": {
      "text/html": [
       "<div>\n",
       "<style scoped>\n",
       "    .dataframe tbody tr th:only-of-type {\n",
       "        vertical-align: middle;\n",
       "    }\n",
       "\n",
       "    .dataframe tbody tr th {\n",
       "        vertical-align: top;\n",
       "    }\n",
       "\n",
       "    .dataframe thead th {\n",
       "        text-align: right;\n",
       "    }\n",
       "</style>\n",
       "<table border=\"1\" class=\"dataframe\">\n",
       "  <thead>\n",
       "    <tr style=\"text-align: right;\">\n",
       "      <th></th>\n",
       "      <th>imgUrl</th>\n",
       "      <th>labels</th>\n",
       "      <th>score</th>\n",
       "      <th>likeCount</th>\n",
       "      <th>commentCount</th>\n",
       "      <th>caption</th>\n",
       "      <th>normalizedLikeCount</th>\n",
       "      <th>normalizedCommentCount</th>\n",
       "      <th>engagementScore</th>\n",
       "      <th>engagement</th>\n",
       "    </tr>\n",
       "  </thead>\n",
       "  <tbody>\n",
       "    <tr>\n",
       "      <th>0</th>\n",
       "      <td>https://www.instagram.com/p/Ckvlx4fA7ch/media/...</td>\n",
       "      <td>[Temple, Sculpture, Statue, World, Art, Landma...</td>\n",
       "      <td>[0.8743597865104675, 0.8710590600967407, 0.865...</td>\n",
       "      <td>22920</td>\n",
       "      <td>217</td>\n",
       "      <td>Photo by National Geographic on November 09, 2...</td>\n",
       "      <td>0.023917</td>\n",
       "      <td>0.004502</td>\n",
       "      <td>0.012268</td>\n",
       "      <td>0</td>\n",
       "    </tr>\n",
       "    <tr>\n",
       "      <th>1</th>\n",
       "      <td>https://www.instagram.com/p/Ckt9EF4AgD5/media/...</td>\n",
       "      <td>[World, Font, Bedrock, Landscape, Natural land...</td>\n",
       "      <td>[0.898686408996582, 0.8260526657104492, 0.7738...</td>\n",
       "      <td>156864</td>\n",
       "      <td>801</td>\n",
       "      <td>Photo by National Geographic on November 08, 2...</td>\n",
       "      <td>0.163685</td>\n",
       "      <td>0.016619</td>\n",
       "      <td>0.075445</td>\n",
       "      <td>1</td>\n",
       "    </tr>\n",
       "    <tr>\n",
       "      <th>2</th>\n",
       "      <td>https://www.instagram.com/p/CktA-_-Ae-l/media/...</td>\n",
       "      <td>[Sky, Atmosphere, Building, Cloud, Skyscraper,...</td>\n",
       "      <td>[0.9685000777244568, 0.9481807947158813, 0.927...</td>\n",
       "      <td>135166</td>\n",
       "      <td>673</td>\n",
       "      <td>Photo by National Geographic on November 08, 2...</td>\n",
       "      <td>0.141043</td>\n",
       "      <td>0.013963</td>\n",
       "      <td>0.064795</td>\n",
       "      <td>1</td>\n",
       "    </tr>\n",
       "    <tr>\n",
       "      <th>3</th>\n",
       "      <td>https://www.instagram.com/p/CkqtXRvApPf/media/...</td>\n",
       "      <td>[Event, Flash photography, Darkness, Working a...</td>\n",
       "      <td>[0.7158313989639282, 0.693068265914917, 0.6923...</td>\n",
       "      <td>96861</td>\n",
       "      <td>1239</td>\n",
       "      <td>Photo by National Geographic on November 07, 2...</td>\n",
       "      <td>0.101073</td>\n",
       "      <td>0.025706</td>\n",
       "      <td>0.055853</td>\n",
       "      <td>0</td>\n",
       "    </tr>\n",
       "    <tr>\n",
       "      <th>4</th>\n",
       "      <td>https://www.instagram.com/p/CkqtXRvApPf/media/...</td>\n",
       "      <td>[Event, Flash photography, Darkness, Working a...</td>\n",
       "      <td>[0.7158313989639282, 0.693068265914917, 0.6923...</td>\n",
       "      <td>96861</td>\n",
       "      <td>1239</td>\n",
       "      <td>Photo by National Geographic on November 07, 2...</td>\n",
       "      <td>0.101073</td>\n",
       "      <td>0.025706</td>\n",
       "      <td>0.055853</td>\n",
       "      <td>0</td>\n",
       "    </tr>\n",
       "  </tbody>\n",
       "</table>\n",
       "</div>"
      ],
      "text/plain": [
       "                                              imgUrl  \\\n",
       "0  https://www.instagram.com/p/Ckvlx4fA7ch/media/...   \n",
       "1  https://www.instagram.com/p/Ckt9EF4AgD5/media/...   \n",
       "2  https://www.instagram.com/p/CktA-_-Ae-l/media/...   \n",
       "3  https://www.instagram.com/p/CkqtXRvApPf/media/...   \n",
       "4  https://www.instagram.com/p/CkqtXRvApPf/media/...   \n",
       "\n",
       "                                              labels  \\\n",
       "0  [Temple, Sculpture, Statue, World, Art, Landma...   \n",
       "1  [World, Font, Bedrock, Landscape, Natural land...   \n",
       "2  [Sky, Atmosphere, Building, Cloud, Skyscraper,...   \n",
       "3  [Event, Flash photography, Darkness, Working a...   \n",
       "4  [Event, Flash photography, Darkness, Working a...   \n",
       "\n",
       "                                               score  likeCount  commentCount  \\\n",
       "0  [0.8743597865104675, 0.8710590600967407, 0.865...      22920           217   \n",
       "1  [0.898686408996582, 0.8260526657104492, 0.7738...     156864           801   \n",
       "2  [0.9685000777244568, 0.9481807947158813, 0.927...     135166           673   \n",
       "3  [0.7158313989639282, 0.693068265914917, 0.6923...      96861          1239   \n",
       "4  [0.7158313989639282, 0.693068265914917, 0.6923...      96861          1239   \n",
       "\n",
       "                                             caption  normalizedLikeCount  \\\n",
       "0  Photo by National Geographic on November 09, 2...             0.023917   \n",
       "1  Photo by National Geographic on November 08, 2...             0.163685   \n",
       "2  Photo by National Geographic on November 08, 2...             0.141043   \n",
       "3  Photo by National Geographic on November 07, 2...             0.101073   \n",
       "4  Photo by National Geographic on November 07, 2...             0.101073   \n",
       "\n",
       "   normalizedCommentCount  engagementScore  engagement  \n",
       "0                0.004502         0.012268           0  \n",
       "1                0.016619         0.075445           1  \n",
       "2                0.013963         0.064795           1  \n",
       "3                0.025706         0.055853           0  \n",
       "4                0.025706         0.055853           0  "
      ]
     },
     "execution_count": 128,
     "metadata": {},
     "output_type": "execute_result"
    }
   ],
   "source": [
    "df['normalizedLikeCount'] = df['likeCount']/(df['likeCount'].max())\n",
    "df['normalizedCommentCount'] = df['commentCount']/(df['commentCount'].max())\n",
    "df['engagementScore'] =  .4*df['normalizedLikeCount'] + .6*df['normalizedCommentCount']\n",
    "df['engagement'] = df.apply(lambda x: 1 if x['engagementScore'] > df['engagementScore'].median() else 0, axis = 1)\n",
    "df.head()"
   ]
  },
  {
   "cell_type": "code",
   "execution_count": 129,
   "id": "148b7218",
   "metadata": {},
   "outputs": [],
   "source": [
    "df.to_csv('img_lbs_scr_with_engagement.csv')"
   ]
  },
  {
   "cell_type": "code",
   "execution_count": null,
   "id": "68fc3bfd",
   "metadata": {},
   "outputs": [],
   "source": []
  }
 ],
 "metadata": {
  "kernelspec": {
   "display_name": "Python 3",
   "language": "python",
   "name": "python3"
  },
  "language_info": {
   "codemirror_mode": {
    "name": "ipython",
    "version": 3
   },
   "file_extension": ".py",
   "mimetype": "text/x-python",
   "name": "python",
   "nbconvert_exporter": "python",
   "pygments_lexer": "ipython3",
   "version": "3.9.6"
  }
 },
 "nbformat": 4,
 "nbformat_minor": 5
}
